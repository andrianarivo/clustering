{
 "cells": [
  {
   "cell_type": "code",
   "execution_count": 1,
   "id": "bb73502a-cf06-44e5-8017-58a74d79b1a9",
   "metadata": {},
   "outputs": [],
   "source": [
    "from sklearn.cluster import DBSCAN\n",
    "from sklearn.preprocessing import StandardScaler\n",
    "from sklearn.metrics import silhouette_score\n",
    "import pandas as pd\n",
    "import numpy as np\n",
    "import matplotlib.pyplot as plt"
   ]
  },
  {
   "cell_type": "code",
   "execution_count": 2,
   "id": "6ac94f60-6461-44b5-b873-227e14e197c1",
   "metadata": {},
   "outputs": [
    {
     "data": {
      "text/html": [
       "<div>\n",
       "<style scoped>\n",
       "    .dataframe tbody tr th:only-of-type {\n",
       "        vertical-align: middle;\n",
       "    }\n",
       "\n",
       "    .dataframe tbody tr th {\n",
       "        vertical-align: top;\n",
       "    }\n",
       "\n",
       "    .dataframe thead th {\n",
       "        text-align: right;\n",
       "    }\n",
       "</style>\n",
       "<table border=\"1\" class=\"dataframe\">\n",
       "  <thead>\n",
       "    <tr style=\"text-align: right;\">\n",
       "      <th></th>\n",
       "      <th>age</th>\n",
       "      <th>price</th>\n",
       "    </tr>\n",
       "  </thead>\n",
       "  <tbody>\n",
       "    <tr>\n",
       "      <th>0</th>\n",
       "      <td>28</td>\n",
       "      <td>1500.40</td>\n",
       "    </tr>\n",
       "    <tr>\n",
       "      <th>1</th>\n",
       "      <td>21</td>\n",
       "      <td>1800.51</td>\n",
       "    </tr>\n",
       "    <tr>\n",
       "      <th>2</th>\n",
       "      <td>20</td>\n",
       "      <td>300.08</td>\n",
       "    </tr>\n",
       "    <tr>\n",
       "      <th>3</th>\n",
       "      <td>66</td>\n",
       "      <td>3000.85</td>\n",
       "    </tr>\n",
       "    <tr>\n",
       "      <th>4</th>\n",
       "      <td>53</td>\n",
       "      <td>60.60</td>\n",
       "    </tr>\n",
       "  </tbody>\n",
       "</table>\n",
       "</div>"
      ],
      "text/plain": [
       "   age    price\n",
       "0   28  1500.40\n",
       "1   21  1800.51\n",
       "2   20   300.08\n",
       "3   66  3000.85\n",
       "4   53    60.60"
      ]
     },
     "execution_count": 2,
     "metadata": {},
     "output_type": "execute_result"
    }
   ],
   "source": [
    "dataset = pd.read_csv('data/customer_shopping_data.csv')\n",
    "train = dataset[['age', 'price']].copy()\n",
    "train.head()"
   ]
  },
  {
   "cell_type": "code",
   "execution_count": 3,
   "id": "d323da21-cb71-49cd-a1ca-e139d58779b6",
   "metadata": {},
   "outputs": [],
   "source": [
    "scaler = StandardScaler().fit(train)\n",
    "X = scaler.transform(train)"
   ]
  },
  {
   "cell_type": "code",
   "execution_count": null,
   "id": "5e3358ec-89f0-4774-a3db-89a0faa2218f",
   "metadata": {},
   "outputs": [],
   "source": [
    "eps_arr=[0.2, 1]\n",
    "min_samples=5\n",
    "dbscan_per_eps=[DBSCAN(eps=eps, min_samples=min_samples).fit_predict(X) for eps in eps_arr]"
   ]
  },
  {
   "cell_type": "code",
   "execution_count": null,
   "id": "f326e19a-d9d7-4411-aada-b613cbcd0d3b",
   "metadata": {},
   "outputs": [],
   "source": [
    "silhouettes = [silhouette_score(X, label) for label in dbscan_per_eps[1:]]\n",
    "\n",
    "plt.figure(figsize=(8, 4))\n",
    "plt.plot(eps_arr[1:], silhouettes, marker='o')\n",
    "plt.title('Silhouette score method for Optimal Epsillon')\n",
    "plt.xlabel('Epsillon (e)')\n",
    "plt.ylabel('Scores')\n",
    "plt.xticks(eps_arr)\n",
    "plt.show()"
   ]
  },
  {
   "cell_type": "code",
   "execution_count": 6,
   "id": "e8a6dc6e-f2c9-4dbc-b9c1-983ad3e1e7aa",
   "metadata": {},
   "outputs": [],
   "source": [
    "eps=0.05\n",
    "dbscan=DBSCAN(eps=eps, min_samples=min_samples)\n",
    "y_pred=dbscan.fit_predict(X)"
   ]
  },
  {
   "cell_type": "code",
   "execution_count": null,
   "id": "211741a2-e2dd-4ccd-9c3d-d6c136680e98",
   "metadata": {},
   "outputs": [],
   "source": []
  }
 ],
 "metadata": {
  "kernelspec": {
   "display_name": "Python [conda env:base] *",
   "language": "python",
   "name": "conda-base-py"
  },
  "language_info": {
   "codemirror_mode": {
    "name": "ipython",
    "version": 3
   },
   "file_extension": ".py",
   "mimetype": "text/x-python",
   "name": "python",
   "nbconvert_exporter": "python",
   "pygments_lexer": "ipython3",
   "version": "3.12.2"
  }
 },
 "nbformat": 4,
 "nbformat_minor": 5
}
